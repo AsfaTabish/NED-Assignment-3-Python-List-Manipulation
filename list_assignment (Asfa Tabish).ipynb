{
 "cells": [
  {
   "cell_type": "markdown",
   "id": "ae5c2af2",
   "metadata": {},
   "source": [
    "# Basic List Operations"
   ]
  },
  {
   "cell_type": "code",
   "execution_count": 2,
   "id": "5abbc53a",
   "metadata": {},
   "outputs": [
    {
     "name": "stdout",
     "output_type": "stream",
     "text": [
      "['apple', 'banana', 'orange', 'grape', 'kiwi', 'pear']\n",
      "['apple', 'mango', 'banana', 'orange', 'grape', 'kiwi', 'pear']\n",
      "['apple', 'mango', 'banana', 'grape', 'kiwi', 'pear']\n"
     ]
    }
   ],
   "source": [
    "# create a list\n",
    "fruits = [\"apple\", \"banana\", \"orange\", \"grape\", \"kiwi\"]\n",
    "\n",
    "# Add \"pear to the end of the list\"\n",
    "fruits.append(\"pear\")\n",
    "print(fruits)\n",
    "\n",
    "# insert mango at the second poition in the list \n",
    "fruits.insert(1, \"mango\")\n",
    "print(fruits)\n",
    "\n",
    "# remove orrange from the list\n",
    "fruits.remove(\"orange\")\n",
    "\n",
    "print(fruits)\n"
   ]
  },
  {
   "cell_type": "markdown",
   "id": "fcf4acd5",
   "metadata": {},
   "source": [
    "# Slicing and Indexing"
   ]
  },
  {
   "cell_type": "code",
   "execution_count": 3,
   "id": "8e12a6bf",
   "metadata": {},
   "outputs": [
    {
     "name": "stdout",
     "output_type": "stream",
     "text": [
      "3\n",
      "[2, 3, 4, 5, 6]\n",
      "[7, 8, 9]\n"
     ]
    }
   ],
   "source": [
    "# Create a list named 'numbers' containing the integers from 0 to 9.\n",
    "numbers = [0, 1, 2, 3, 4, 5, 6, 7, 8, 9]\n",
    "\n",
    "# Print the element at index 3.\n",
    "print(numbers[3])\n",
    "\n",
    "# Print a sublist containing the elements from index 2 to 6 (inclusive).\n",
    "sublist = numbers[2:7]\n",
    "print(sublist)\n",
    "\n",
    "# Print the last three elements using negative indexing.\n",
    "last_three = numbers[-3:]\n",
    "print(last_three)"
   ]
  },
  {
   "cell_type": "markdown",
   "id": "094027ce",
   "metadata": {},
   "source": [
    "# List Comprehension"
   ]
  },
  {
   "cell_type": "code",
   "execution_count": 4,
   "id": "64cf51b0",
   "metadata": {},
   "outputs": [
    {
     "name": "stdout",
     "output_type": "stream",
     "text": [
      "Squares: [1, 4, 9, 16, 25, 36, 49, 64, 81, 100]\n",
      "Even-squares: [4, 16, 36, 64, 100]\n"
     ]
    }
   ],
   "source": [
    "# Create a list named 'squares'\n",
    "squares = [x ** 2 for x in range(1, 11)]\n",
    "\n",
    "# Create a new list named `even_squares`\n",
    "even_squares = [x for x in squares if x % 2 == 0]\n",
    "\n",
    "print(\"Squares:\", squares)\n",
    "print(\"Even-squares:\", even_squares)"
   ]
  },
  {
   "cell_type": "markdown",
   "id": "7e1794b9",
   "metadata": {},
   "source": [
    "# List Manipulation"
   ]
  },
  {
   "cell_type": "code",
   "execution_count": 5,
   "id": "03786285",
   "metadata": {},
   "outputs": [
    {
     "name": "stdout",
     "output_type": "stream",
     "text": [
      "colors: ['red', 'green', 'blue', 'yellow', 'purple']\n",
      "Swap first and last elements: ['purple', 'green', 'blue', 'yellow', 'red']\n",
      "Reverse the order: ['red', 'yellow', 'blue', 'green', 'purple']\n",
      "Final Colors: ['red', 'green', 'purple']\n"
     ]
    }
   ],
   "source": [
    "# Create a list named 'colors' containing the specified items.\n",
    "colors = [\"red\", \"green\", \"blue\", \"yellow\", \"purple\"]\n",
    "print(\"colors:\", colors)\n",
    "\n",
    "# Swap the first and last elements of the list.\n",
    "colors[0], colors[-1] = colors[-1], colors[0]\n",
    "print(\"Swap first and last elements:\", colors)\n",
    "\n",
    "# Reverse the order of the list.\n",
    "colors.reverse()\n",
    "print(\"Reverse the order:\", colors)\n",
    "\n",
    "# Remove the second and third elements from the list.\n",
    "del colors[1:3]\n",
    "\n",
    "# Print the final 'colors' list after performing the operations.\n",
    "print(\"Final Colors:\", colors)"
   ]
  },
  {
   "cell_type": "markdown",
   "id": "f2519d8b",
   "metadata": {},
   "source": [
    "# Advanced Slicing"
   ]
  },
  {
   "cell_type": "code",
   "execution_count": 33,
   "id": "2a548037",
   "metadata": {},
   "outputs": [
    {
     "name": "stdout",
     "output_type": "stream",
     "text": [
      "Letters: ['a', 'b', 'c', 'd', 'e', 'f', 'g', 'h', 'i', 'j']\n",
      "First Half: ['a', 'b', 'c', 'd', 'e']\n",
      "Last Three: ['h', 'i', 'j']\n"
     ]
    }
   ],
   "source": [
    "# Create the letters list\n",
    "letters = ['a', 'b', 'c', 'd', 'e', 'f', 'g', 'h', 'i', 'j']\n",
    "\n",
    "# Create the first_half list using slicing\n",
    "first_half = letters[:len(letters)//2]\n",
    "\n",
    "# Create the last_three list using slicing\n",
    "last_three = letters[-3:]\n",
    "\n",
    "print(\"Letters:\", letters)\n",
    "print(\"First Half:\", first_half)\n",
    "print(\"Last Three:\", last_three)"
   ]
  },
  {
   "cell_type": "markdown",
   "id": "236c00f5",
   "metadata": {},
   "source": [
    "# Nested Lists "
   ]
  },
  {
   "cell_type": "code",
   "execution_count": 37,
   "id": "844a922c",
   "metadata": {},
   "outputs": [
    {
     "name": "stdout",
     "output_type": "stream",
     "text": [
      "Element in the second row and third column: 6\n",
      "[1, 2, 3]\n",
      "[0, 5, 6]\n",
      "[7, 8, 9]\n"
     ]
    }
   ],
   "source": [
    "# Create the nested list (matrix)\n",
    "matrix = [\n",
    "    [1, 2, 3],\n",
    "    [4, 5, 6],\n",
    "    [7, 8, 9]\n",
    "]\n",
    "\n",
    "# Print the element in the second row and third column\n",
    "element_2nd_row_3rd_col = matrix[1][2]\n",
    "print(\"Element in the second row and third column:\", element_2nd_row_3rd_col)\n",
    "\n",
    "# Use nested indexing to change the value at the second row and first column to 0\n",
    "matrix[1][0] = 0\n",
    "\n",
    "# Print the updated matrix\n",
    "for row in matrix:\n",
    "    print(row)"
   ]
  }
 ],
 "metadata": {
  "kernelspec": {
   "display_name": "Python 3 (ipykernel)",
   "language": "python",
   "name": "python3"
  },
  "language_info": {
   "codemirror_mode": {
    "name": "ipython",
    "version": 3
   },
   "file_extension": ".py",
   "mimetype": "text/x-python",
   "name": "python",
   "nbconvert_exporter": "python",
   "pygments_lexer": "ipython3",
   "version": "3.11.3"
  }
 },
 "nbformat": 4,
 "nbformat_minor": 5
}
